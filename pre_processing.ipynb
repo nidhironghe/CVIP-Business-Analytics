{
  "nbformat": 4,
  "nbformat_minor": 0,
  "metadata": {
    "colab": {
      "provenance": []
    },
    "kernelspec": {
      "name": "python3",
      "display_name": "Python 3"
    },
    "language_info": {
      "name": "python"
    }
  },
  "cells": [
    {
      "cell_type": "code",
      "source": [
        "import pandas as pd\n",
        "import re\n",
        "\n",
        "df = pd.read_csv(\"amazon[1].csv\")\n",
        "df.drop_duplicates(inplace=True)\n",
        "\n",
        "df['product_name'] = df['product_name'].str.lower()\n",
        "df['product_name'] = df['product_name'].str.replace('[^a-zA-Z0-9\\s]', '', regex=True)\n",
        "\n",
        "df['rating'] = df['rating'].apply(lambda x: re.findall(r'\\d+\\.\\d+', str(x)))\n",
        "df['rating'] = df['rating'].apply(lambda x: float(x[0]) if len(x) > 0 else None)\n",
        "df['rating'] = df['rating'].fillna(df['rating'].mean())\n",
        "\n",
        "df['rating_count'] = pd.to_numeric(df['rating_count'], errors='coerce')\n",
        "df['rating_count'] = df['rating_count'].fillna(df['rating_count'].mean())\n",
        "\n",
        "text_columns = ['about_product', 'review_title', 'review_content']\n",
        "for col in text_columns:\n",
        "    df[col] = df[col].str.lower().str.replace('[^a-zA-Z0-9\\s]', '', regex=True)\n",
        "\n",
        "numeric_columns = ['discounted_price', 'actual_price', 'discount_percentage']\n",
        "for col in numeric_columns:\n",
        "    df[col] = df[col].str.replace('₹', '').str.replace(',', '').str.replace('%', '').astype(float)\n",
        "    df[col] = df[col].fillna(df[col].mean())\n",
        "\n",
        "if 'category' in df.columns:\n",
        "    df = pd.get_dummies(df, columns=['category'])\n",
        "\n",
        "df.to_csv(\"cleaned_dataset_combined.csv\", index=False)\n"
      ],
      "metadata": {
        "id": "SdD9ra1DXUOl"
      },
      "execution_count": 29,
      "outputs": []
    }
  ]
}